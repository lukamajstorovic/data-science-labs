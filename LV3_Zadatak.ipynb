{
  "nbformat": 4,
  "nbformat_minor": 0,
  "metadata": {
    "colab": {
      "provenance": []
    },
    "kernelspec": {
      "name": "python3",
      "display_name": "Python 3"
    },
    "language_info": {
      "name": "python"
    }
  },
  "cells": [
    {
      "cell_type": "markdown",
      "source": [
        "# **Laboratorijska vježba 3**: Zadaci za samostalni rad\n",
        "\n",
        "## **Podaci iz popisa stanovništa u SAD-u iz 2015. godine**\n",
        "\n",
        "U ovoj laboratorijskoj vježbi istražit ćemo skup podataka dobiven iz popisa stanovništva 2015. godine u SAD-u. Skup podataka dostupan je u *Data/acs2015_county_data.csv*. \n"
      ],
      "metadata": {
        "id": "SIOX6OjUo0TQ"
      }
    },
    {
      "cell_type": "code",
      "source": [
        "!head Data/acs2015_county_data.csv"
      ],
      "metadata": {
        "colab": {
          "base_uri": "https://localhost:8080/"
        },
        "id": "fGvIvs0tplVn",
        "outputId": "49eefe8d-45a2-4d30-8df1-94b47050e00a"
      },
      "execution_count": null,
      "outputs": [
        {
          "output_type": "stream",
          "name": "stdout",
          "text": [
            "CensusId,State,County,TotalPop,Men,Women,Hispanic,White,Black,Native,Asian,Pacific,Citizen,Income,IncomeErr,IncomePerCap,IncomePerCapErr,Poverty,ChildPoverty,Professional,Service,Office,Construction,Production,Drive,Carpool,Transit,Walk,OtherTransp,WorkAtHome,MeanCommute,Employed,PrivateWork,PublicWork,SelfEmployed,FamilyWork,Unemployment\r\n",
            "1001,Alabama,Autauga,55221,26745,28476,2.6,75.8,18.5,0.4,1.0,0.0,40725,51281.0,2391.0,24974,1080,12.9,18.6,33.2,17.0,24.2,8.6,17.1,87.5,8.8,0.1,0.5,1.3,1.8,26.5,23986,73.6,20.9,5.5,0.0,7.6\r\n",
            "1003,Alabama,Baldwin,195121,95314,99807,4.5,83.1,9.5,0.6,0.7,0.0,147695,50254.0,1263.0,27317,711,13.4,19.2,33.1,17.7,27.1,10.8,11.2,84.7,8.8,0.1,1.0,1.4,3.9,26.4,85953,81.5,12.3,5.8,0.4,7.5\r\n",
            "1005,Alabama,Barbour,26932,14497,12435,4.6,46.2,46.7,0.2,0.4,0.0,20714,32964.0,2973.0,16824,798,26.7,45.3,26.8,16.1,23.1,10.8,23.1,83.8,10.9,0.4,1.8,1.5,1.6,24.1,8597,71.8,20.8,7.3,0.1,17.6\r\n",
            "1007,Alabama,Bibb,22604,12073,10531,2.2,74.5,21.4,0.4,0.1,0.0,17495,38678.0,3995.0,18431,1618,16.8,27.9,21.5,17.9,17.8,19.0,23.7,83.2,13.5,0.5,0.6,1.5,0.7,28.8,8294,76.8,16.1,6.7,0.4,8.3\r\n",
            "1009,Alabama,Blount,57710,28512,29198,8.6,87.9,1.5,0.3,0.1,0.0,42345,45813.0,3141.0,20532,708,16.7,27.2,28.5,14.1,23.9,13.5,19.9,84.9,11.2,0.4,0.9,0.4,2.3,34.9,22189,82.0,13.5,4.2,0.4,7.7\r\n",
            "1011,Alabama,Bullock,10678,5660,5018,4.4,22.2,70.7,1.2,0.2,0.0,8057,31938.0,5884.0,17580,2055,24.6,38.4,18.8,15.0,19.7,20.1,26.4,74.9,14.9,0.7,5.0,1.7,2.8,27.5,3865,79.5,15.1,5.4,0.0,18.0\r\n",
            "1013,Alabama,Butler,20354,9502,10852,1.2,53.3,43.8,0.1,0.4,0.0,15581,32229.0,1793.0,18390,714,25.4,39.2,27.5,16.6,21.9,10.3,23.7,84.5,12.4,0.0,0.8,0.6,1.7,24.6,7813,77.4,16.2,6.2,0.2,10.9\r\n",
            "1015,Alabama,Calhoun,116648,56274,60374,3.5,73.0,20.3,0.2,0.9,0.0,88612,41703.0,925.0,21374,489,20.5,31.6,27.3,17.7,24.2,10.5,20.4,85.3,9.4,0.2,1.2,1.2,2.7,24.1,47401,74.1,20.8,5.0,0.1,12.3\r\n",
            "1017,Alabama,Chambers,34079,16258,17821,0.4,57.3,40.3,0.2,0.8,0.0,26462,34177.0,2949.0,21071,1366,21.6,37.2,23.3,14.5,26.3,11.5,24.4,85.1,11.9,0.2,0.3,0.4,2.1,25.1,13689,85.1,12.1,2.8,0.0,8.9\r\n"
          ]
        }
      ]
    },
    {
      "cell_type": "code",
      "source": [
        "import pandas as pd\n",
        "import pandas as pd\n",
        "import numpy as np\n",
        "import matplotlib.pyplot as plt\n",
        "%matplotlib inline\n",
        "import seaborn as sns\n",
        "import math\n",
        "\n",
        "#load the statistical libraries\n",
        "from statsmodels.stats import diagnostic\n",
        "from scipy import stats"
      ],
      "metadata": {
        "id": "3O06UCc7p6GH"
      },
      "execution_count": null,
      "outputs": []
    },
    {
      "cell_type": "code",
      "source": [
        "data_folder = './Data/'\n",
        "df = pd.read_csv(data_folder + 'acs2015_county_data.csv')"
      ],
      "metadata": {
        "id": "Bg-b-5vTp7jO"
      },
      "execution_count": null,
      "outputs": []
    },
    {
      "cell_type": "code",
      "source": [
        "df.columns"
      ],
      "metadata": {
        "colab": {
          "base_uri": "https://localhost:8080/"
        },
        "id": "ZUyIVzNkp_VV",
        "outputId": "07616dc6-e41c-489c-adfc-28e0c0afdf22"
      },
      "execution_count": null,
      "outputs": [
        {
          "output_type": "execute_result",
          "data": {
            "text/plain": [
              "Index(['CensusId', 'State', 'County', 'TotalPop', 'Men', 'Women', 'Hispanic',\n",
              "       'White', 'Black', 'Native', 'Asian', 'Pacific', 'Citizen', 'Income',\n",
              "       'IncomeErr', 'IncomePerCap', 'IncomePerCapErr', 'Poverty',\n",
              "       'ChildPoverty', 'Professional', 'Service', 'Office', 'Construction',\n",
              "       'Production', 'Drive', 'Carpool', 'Transit', 'Walk', 'OtherTransp',\n",
              "       'WorkAtHome', 'MeanCommute', 'Employed', 'PrivateWork', 'PublicWork',\n",
              "       'SelfEmployed', 'FamilyWork', 'Unemployment'],\n",
              "      dtype='object')"
            ]
          },
          "metadata": {},
          "execution_count": 4
        }
      ]
    },
    {
      "cell_type": "markdown",
      "source": [
        "## **Zadatak 1: Izračun deskriptivne statistike i testiranje distribucija**\n",
        "\n",
        "Za numeričke varijable u skupu podataka izračunajte osnovne mjere u okviru deskriptivne statistike. Zatim se fokusirajte na dohodak po stanovniku države (*IncomePerCap*). Koliko u prosjeku zarađuju stanovnici SAD-a? Kolika je medijalna plaća? "
      ],
      "metadata": {
        "id": "OScnozy4qCH_"
      }
    },
    {
      "cell_type": "code",
      "source": [
        "df.describe()\n",
        "df['IncomePerCap'].mean()\n",
        "df['IncomePerCap'].median()"
      ],
      "metadata": {
        "id": "igEfXmYsqRKQ",
        "colab": {
          "base_uri": "https://localhost:8080/"
        },
        "outputId": "520427da-4a56-4bff-c896-7599ceb764ee"
      },
      "execution_count": null,
      "outputs": [
        {
          "output_type": "execute_result",
          "data": {
            "text/plain": [
              "23460.0"
            ]
          },
          "metadata": {},
          "execution_count": 7
        }
      ]
    },
    {
      "cell_type": "markdown",
      "source": [
        "Pokušajte steći dublji uvid u prihod po stanovniku. Može li se prepoznati distribucija iz koje potječi ovi podaci? Potkrijepite Vaš zaključak grafičkom metodom i rezultatima statističkog testa."
      ],
      "metadata": {
        "id": "bDBpBq0LrCh2"
      }
    },
    {
      "cell_type": "code",
      "source": [
        "plt.hist(df['IncomePerCap'], bins=50)"
      ],
      "metadata": {
        "id": "bKMFtGPsrYtn",
        "colab": {
          "base_uri": "https://localhost:8080/",
          "height": 690
        },
        "outputId": "513cdae0-d7ec-46e2-9fa0-4987d3ffc4a0"
      },
      "execution_count": null,
      "outputs": [
        {
          "output_type": "execute_result",
          "data": {
            "text/plain": [
              "(array([  5.,  20.,  24.,  16.,  12.,  16.,  23.,  42.,  58., 130., 187.,\n",
              "        265., 299., 302., 302., 273., 278., 224., 179., 132., 115.,  60.,\n",
              "         55.,  43.,  32.,  24.,  22.,  23.,   9.,   7.,   6.,   6.,   5.,\n",
              "          4.,   3.,   4.,   3.,   4.,   2.,   0.,   0.,   2.,   0.,   0.,\n",
              "          0.,   1.,   0.,   0.,   1.,   2.]),\n",
              " array([ 5878.  ,  7072.44,  8266.88,  9461.32, 10655.76, 11850.2 ,\n",
              "        13044.64, 14239.08, 15433.52, 16627.96, 17822.4 , 19016.84,\n",
              "        20211.28, 21405.72, 22600.16, 23794.6 , 24989.04, 26183.48,\n",
              "        27377.92, 28572.36, 29766.8 , 30961.24, 32155.68, 33350.12,\n",
              "        34544.56, 35739.  , 36933.44, 38127.88, 39322.32, 40516.76,\n",
              "        41711.2 , 42905.64, 44100.08, 45294.52, 46488.96, 47683.4 ,\n",
              "        48877.84, 50072.28, 51266.72, 52461.16, 53655.6 , 54850.04,\n",
              "        56044.48, 57238.92, 58433.36, 59627.8 , 60822.24, 62016.68,\n",
              "        63211.12, 64405.56, 65600.  ]),\n",
              " <BarContainer object of 50 artists>)"
            ]
          },
          "metadata": {},
          "execution_count": 14
        },
        {
          "output_type": "display_data",
          "data": {
            "text/plain": [
              "<Figure size 640x480 with 1 Axes>"
            ],
            "image/png": "[encoded data removed]"
          },
          "metadata": {}
        }
      ]
    },
    {
      "cell_type": "markdown",
      "source": [
        "Izračunajte osnovne mjere u okviru deskriptivne statistike za broj stanovnika države (*TotalPop*) te prokomentirajte dobivene rezultate."
      ],
      "metadata": {
        "id": "1BUpMvk5sECu"
      }
    },
    {
      "cell_type": "code",
      "source": [
        "df['TotalPop'].describe()"
      ],
      "metadata": {
        "id": "i4wmEVvcsMKt",
        "colab": {
          "base_uri": "https://localhost:8080/"
        },
        "outputId": "1a8bb069-5d3f-43af-95d1-570144a11449"
      },
      "execution_count": null,
      "outputs": [
        {
          "output_type": "execute_result",
          "data": {
            "text/plain": [
              "count    3.220000e+03\n",
              "mean     9.940935e+04\n",
              "std      3.193055e+05\n",
              "min      8.500000e+01\n",
              "25%      1.121800e+04\n",
              "50%      2.603500e+04\n",
              "75%      6.643050e+04\n",
              "max      1.003839e+07\n",
              "Name: TotalPop, dtype: float64"
            ]
          },
          "metadata": {},
          "execution_count": 16
        }
      ]
    },
    {
      "cell_type": "markdown",
      "source": [
        "Pokušajte steći dublji uvid u broj stanovnika. Može li se prepoznati distribucija iz koje potječu ovi podaci? Potkrijepite Vaš zaključak grafičkom metodom i rezultatima statističkog testa."
      ],
      "metadata": {
        "id": "8TLicrlzsQs-"
      }
    },
    {
      "cell_type": "code",
      "source": [
        "plt.hist(df['TotalPop'])\n",
        "diagnostic.kstest_normal(df['TotalPop'], dist='norm')"
      ],
      "metadata": {
        "id": "QmEByV10sZrW",
        "colab": {
          "base_uri": "https://localhost:8080/",
          "height": 465
        },
        "outputId": "11efe22f-2c0d-4e3b-e766-b1f6f52f6c81"
      },
      "execution_count": null,
      "outputs": [
        {
          "output_type": "execute_result",
          "data": {
            "text/plain": [
              "(0.37787608613878587, 0.0009999999999998899)"
            ]
          },
          "metadata": {},
          "execution_count": 113
        },
        {
          "output_type": "display_data",
          "data": {
            "text/plain": [
              "<Figure size 640x480 with 1 Axes>"
            ],
            "image/png": "[encoded data removed]"
          },
          "metadata": {}
        }
      ]
    },
    {
      "cell_type": "markdown",
      "source": [
        "## **Zadatak 2: Ispitivanje odnosa između dvije varijable**\n",
        "\n",
        "Pokušajte odgovoriti na pitanje je li dohodak po stanovniku države u korelaciji s nezaposlenošću. Ispitajte i linearnu i monotonu korelaciju."
      ],
      "metadata": {
        "id": "6wA3OPzdtxzV"
      }
    },
    {
      "cell_type": "code",
      "source": [
        "#df[['IncomePerCap', 'Unemployment']].corr(method='pearson')\n",
        "stats.pearsonr(df['IncomePerCap'], df['Unemployment'])\n",
        "#df[['IncomePerCap', 'Unemployment']].corr(method='spearman')\n",
        "stats.spearmanr(df['IncomePerCap'], df['Unemployment'])"
      ],
      "metadata": {
        "id": "uRSuDK21uQ9l",
        "colab": {
          "base_uri": "https://localhost:8080/"
        },
        "outputId": "c2362109-bb3f-4d9c-8818-101aa347ef6a"
      },
      "execution_count": null,
      "outputs": [
        {
          "output_type": "execute_result",
          "data": {
            "text/plain": [
              "SignificanceResult(statistic=-0.5610346008485645, pvalue=1.861766816019713e-266)"
            ]
          },
          "metadata": {},
          "execution_count": 24
        }
      ]
    },
    {
      "cell_type": "markdown",
      "source": [
        "## **Zadatak 3: Testiranje hipoteza**\n",
        "\n",
        "Zarađuju li stanovnici države New York više od stanovnika države Kalifornija? Pokušajte dati odgovor na ovo pitanje pomoću deskriptivne statistike."
      ],
      "metadata": {
        "id": "r8KFGmUYuSiV"
      }
    },
    {
      "cell_type": "code",
      "source": [
        "print('New York:\\n', df.loc[df['State'] == 'New York']['IncomePerCap'].describe())\n",
        "print('\\nCalifornia:\\n', df.loc[df['State'] == 'California']['IncomePerCap'].describe())"
      ],
      "metadata": {
        "id": "9Zr9QSFLunEn",
        "colab": {
          "base_uri": "https://localhost:8080/"
        },
        "outputId": "35270f9b-fbcb-4dea-b6c4-1c3ada1ce8ee"
      },
      "execution_count": null,
      "outputs": [
        {
          "output_type": "stream",
          "name": "stdout",
          "text": [
            "New York:\n",
            " count       62.000000\n",
            "mean     28189.758065\n",
            "std       7196.801210\n",
            "min      18456.000000\n",
            "25%      24255.750000\n",
            "50%      25891.000000\n",
            "75%      30319.250000\n",
            "max      64993.000000\n",
            "Name: IncomePerCap, dtype: float64\n",
            "\n",
            "California:\n",
            " count       58.000000\n",
            "mean     27902.603448\n",
            "std       8672.312531\n",
            "min      16143.000000\n",
            "25%      21409.000000\n",
            "50%      27146.500000\n",
            "75%      31214.500000\n",
            "max      60236.000000\n",
            "Name: IncomePerCap, dtype: float64\n"
          ]
        }
      ]
    },
    {
      "cell_type": "markdown",
      "source": [
        "Kako bi potkrijepili dobivene zaključke, provedite testiranje hipoteza. Neka nulta hipoteza pretpostavlja da nema statistički značajne razlike u dohotku stanovnika ovih država. Testirajte hipotezu pomoću dvostranog t-testa (*two-sided t-test*). Prokomentirajte dobivenu $p$-vrijednost te donesite zaključak."
      ],
      "metadata": {
        "id": "OLt7u6QKuoZm"
      }
    },
    {
      "cell_type": "code",
      "source": [
        "import scipy.stats as st\n",
        "data_thing = df.loc[df['State'] == 'New York']['IncomePerCap']\n",
        "data_thing2 = df.loc[df['State'] == 'California']['IncomePerCap']\n",
        "stats.ttest_ind(data_thing, data_thing2)"
      ],
      "metadata": {
        "id": "XW2oCWvBvGqe",
        "colab": {
          "base_uri": "https://localhost:8080/"
        },
        "outputId": "b6e05f77-cef4-45bb-bab6-a22338d59f93"
      },
      "execution_count": null,
      "outputs": [
        {
          "output_type": "execute_result",
          "data": {
            "text/plain": [
              "Ttest_indResult(statistic=0.19788117232375713, pvalue=0.8434785239169611)"
            ]
          },
          "metadata": {},
          "execution_count": 114
        }
      ]
    },
    {
      "cell_type": "markdown",
      "source": [
        "## **Zadatak 4: Kvantificiranje nesigurnosti**\n",
        "\n",
        "Ponovno promotrimo pitanje zarađuju li stanovnici države New York više od stanovnika države Kalifornija. Ovaj put pokušajte odgovoriti na pitanje pomoću intervala pouzdanosti s razinom pouzdanosti od 95%. Uz izračun, vizualizirajte intervale pouzdanosti na stupčastim dijagramima. \n",
        "Pomoć: provjerite preklapaju li se intervali za ove države."
      ],
      "metadata": {
        "id": "abB88OPUvJXN"
      }
    },
    {
      "cell_type": "code",
      "source": [
        "import scipy.stats as st\n",
        "data_thing = df.loc[df['State'] == 'New York']['IncomePerCap']\n",
        "interval_NY = st.t.interval(confidence=0.95, df=len(data_thing)-1, loc=np.mean(data_thing), scale=st.sem(data_thing))\n",
        "print('New York:\\n', interval_NY)\n",
        "data_thing2 = df.loc[df['State'] == 'California']['IncomePerCap']\n",
        "interval_CA = st.t.interval(confidence=0.95, df=len(data_thing2)-1, loc=np.mean(data_thing2), scale=st.sem(data_thing2))\n",
        "print('\\nCalifornia:\\n', interval_CA)\n",
        "\n",
        "intervals = interval_NY + interval_CA\n",
        "\n",
        "# x-coordinates of left sides of bars \n",
        "left = [1, 2, 3, 4]\n",
        "  \n",
        "# heights of bars\n",
        "height = [interval_NY[0], interval_CA[0], interval_NY[1], interval_CA[1]]\n",
        "  \n",
        "# labels for bars\n",
        "tick_label = ['NY Low', 'CA Low', 'NY High', 'CA High']\n",
        "  \n",
        "# plotting a bar chart\n",
        "plt.bar(left, height, tick_label = tick_label,\n",
        "        width = 0.8, color = ['#6CACE4', '#FD9308'])\n",
        "  \n",
        "# naming the x-axis\n",
        "# naming the y-axis\n",
        "plt.ylabel('Income per capita')\n",
        "# plot title\n",
        "plt.title('Income per capita comparison NY and CA')\n",
        "  \n",
        "# function to show the plot\n",
        "plt.show()"
      ],
      "metadata": {
        "id": "1cvoBHOlv8Rd",
        "colab": {
          "base_uri": "https://localhost:8080/",
          "height": 539
        },
        "outputId": "23cedd70-d34c-4696-8307-68fbbcf53b2b"
      },
      "execution_count": null,
      "outputs": [
        {
          "output_type": "stream",
          "name": "stdout",
          "text": [
            "New York:\n",
            " (26362.11277119949, 30017.40335783277)\n",
            "\n",
            "California:\n",
            " (25622.335110090782, 30182.871786460943)\n"
          ]
        },
        {
          "output_type": "display_data",
          "data": {
            "text/plain": [
              "<Figure size 640x480 with 1 Axes>"
            ],
            "image/png": "[encoded data removed]"
          },
          "metadata": {}
        }
      ]
    },
    {
      "cell_type": "markdown",
      "source": [
        "## **Zadatak 5: Jačanje gospodarstva poticanjem samozapošljavanja**\n",
        "\n",
        "Pretpostavimo da je najveći prioritet lokalne uprave u 2018. godini povećanje dohotka po glavi stanovnika. U tu svrhu, dužnosnici planiraju usvojiti strategiju poticanja samozapošljavanja kroz niz kampanja, obrazovnih programa i namjenskih sredstava.\n",
        "\n",
        "Budući da je neetično i nemoguće u ovom okruženju provoditi kontrolirani eksperiment koji uključuje građane (primjerice, otpustiti zaposlenike i prisiliti ih na samozapošljavanje), dužnosnici su od Vas zatražili da utvrdite učinak samozapošljavanja na gospodarstva, oslanjajući se na podatke iz danog skupa podataka."
      ],
      "metadata": {
        "id": "YYrfZvxCv-BW"
      }
    },
    {
      "cell_type": "markdown",
      "source": [
        "Koristeći odgovarajuće grafičke i statističke metode, odredite i kvantificirajte vezu između postotka samozaposlenih građana (*SelfEmployed*) i dohotka po glavi stanovnika u svih 3212 država SAD-a. Zarađuju li građani u državama koje imaju veći postotak samozaposlenih više po glavi stanovnika?"
      ],
      "metadata": {
        "id": "H-_2YLcBwiMC"
      }
    },
    {
      "cell_type": "code",
      "source": [
        "stats.pearsonr(df['SelfEmployed'], df['IncomePerCap'])"
      ],
      "metadata": {
        "id": "ASwCyjF0wyW-",
        "colab": {
          "base_uri": "https://localhost:8080/"
        },
        "outputId": "75fdb828-c24b-4e7a-f258-7264764158b6"
      },
      "execution_count": null,
      "outputs": [
        {
          "output_type": "execute_result",
          "data": {
            "text/plain": [
              "PearsonRResult(statistic=0.08727386609551786, pvalue=7.052861196524553e-07)"
            ]
          },
          "metadata": {},
          "execution_count": 89
        }
      ]
    },
    {
      "cell_type": "markdown",
      "source": [
        "Pilot program ove strategije zahvatit će sve okruge unutar ograničenog skupa od tri države. Skup A uključuje Wisconsin, Tennessee i Minnesotu. Kvantificirajte ovisnost dohotka po glavi stanovnika o stopama samozapošljavanja u skupu A."
      ],
      "metadata": {
        "id": "E-daFr46w5YV"
      }
    },
    {
      "cell_type": "code",
      "source": [
        "three_countries = df.loc[df['State'].isin(['Wisconsin', 'Tennessee', 'Minnesota'])]\n",
        "stats.pearsonr(three_countries['SelfEmployed'], three_countries['IncomePerCap'])"
      ],
      "metadata": {
        "id": "V2WZtaJMxLWm",
        "colab": {
          "base_uri": "https://localhost:8080/"
        },
        "outputId": "c86fc264-b468-4008-81ff-6a6839af14ee"
      },
      "execution_count": null,
      "outputs": [
        {
          "output_type": "execute_result",
          "data": {
            "text/plain": [
              "PearsonRResult(statistic=-0.202293507365215, pvalue=0.0011881639322138561)"
            ]
          },
          "metadata": {},
          "execution_count": 96
        }
      ]
    },
    {
      "cell_type": "markdown",
      "source": [
        "U kojoj je državi unutar skupa A opaženi učinak samozapošljavanja na dohodak po glavi stanovnika najjači? Je li ovaj učinak pozitivan ili negativan?"
      ],
      "metadata": {
        "id": "D6DK3LO-xOJu"
      }
    },
    {
      "cell_type": "code",
      "source": [
        "Wisconsin = df.loc[df['State'].isin(['Wisconsin'])]\n",
        "Tennessee = df.loc[df['State'].isin(['Tennessee'])]\n",
        "Minnesota = df.loc[df['State'].isin(['Minnesota'])]\n",
        "\n",
        "Wisconsin = stats.pearsonr(Wisconsin['SelfEmployed'], Wisconsin['IncomePerCap'])\n",
        "Tennessee = stats.pearsonr(Tennessee['SelfEmployed'], Tennessee['IncomePerCap'])\n",
        "Minnesota = stats.pearsonr(Minnesota['SelfEmployed'], Minnesota['IncomePerCap'])\n",
        "print(Wisconsin[0])\n",
        "print(Tennessee[0])\n",
        "print(Minnesota[0])\n",
        "\n",
        "print('Wisconsin')"
      ],
      "metadata": {
        "id": "cJun3ZYjxVpW",
        "colab": {
          "base_uri": "https://localhost:8080/"
        },
        "outputId": "d60fdb6c-fb80-4bc4-916d-19336cca9cf6"
      },
      "execution_count": null,
      "outputs": [
        {
          "output_type": "stream",
          "name": "stdout",
          "text": [
            "-0.32905300016378525\n",
            "-0.23836048684913153\n",
            "-0.2538551921654062\n",
            "Wisconsin\n"
          ]
        }
      ]
    },
    {
      "cell_type": "markdown",
      "source": [
        "Skup B uključuje države New Jersey, Kansas i Rhode Island. Ponovite analizu iz prijašnjih koraka, ali sada za skup B. U kojem biste od dva skupa A i B preporučili poticanje samozapošljavanja? Objasnite svoje razmišljanje. Što zamjećujete kad u oba skupa promatrate korelaciju unutar svake pojedine države, a što kada promatrate korelaciju za države u cjelini?"
      ],
      "metadata": {
        "id": "c7O5Ksd5xYqu"
      }
    },
    {
      "cell_type": "code",
      "source": [
        "three_countries = df.loc[df['State'].isin(['New Jersey', 'Kansas', 'Rhode Island'])]\n",
        "print('All: ', stats.pearsonr(three_countries['SelfEmployed'], three_countries['IncomePerCap']))\n",
        "\n",
        "NewJersey = df.loc[df['State'].isin(['New Jersey'])]\n",
        "Kansas = df.loc[df['State'].isin(['Kansas'])]\n",
        "RhodeIsland = df.loc[df['State'].isin(['Rhode Island'])]\n",
        "\n",
        "NewJersey = stats.pearsonr(NewJersey['SelfEmployed'], NewJersey['IncomePerCap'])\n",
        "Kansas = stats.pearsonr(Kansas['SelfEmployed'], Kansas['IncomePerCap'])\n",
        "RhodeIsland = stats.pearsonr(RhodeIsland['SelfEmployed'], RhodeIsland['IncomePerCap'])\n",
        "print(NewJersey[0])\n",
        "print(Kansas[0])\n",
        "print(RhodeIsland[0])\n",
        "\n",
        "print('Rhode Island')"
      ],
      "metadata": {
        "id": "Q5BesEmWy-_1",
        "colab": {
          "base_uri": "https://localhost:8080/"
        },
        "outputId": "70566e40-b9b8-4bc9-e346-de7c95e0d9b3"
      },
      "execution_count": null,
      "outputs": [
        {
          "output_type": "stream",
          "name": "stdout",
          "text": [
            "All:  PearsonRResult(statistic=-0.2322214134608569, pvalue=0.007607493042857383)\n",
            "0.48044784713362815\n",
            "0.25810299714436924\n",
            "0.9021788382149803\n",
            "Rhode Island\n"
          ]
        }
      ]
    }
  ]
}