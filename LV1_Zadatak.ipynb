{
  "nbformat": 4,
  "nbformat_minor": 0,
  "metadata": {
    "colab": {
      "provenance": [],
      "private_outputs": true
    },
    "kernelspec": {
      "name": "python3",
      "display_name": "Python 3"
    },
    "language_info": {
      "name": "python"
    },
    "gpuClass": "standard"
  },
  "cells": [
    {
      "cell_type": "markdown",
      "source": [
        "# **Laboratorijska vježba 1**: Zadaci za samostalni rad\n",
        "## **Podaci iz Svjetskog izvješća o sreći**\n",
        "\n",
        "Svjetsko izvješće o sreći godišnja je publikacija Mreže rješenja za održivi razvoj Ujedinjenih naroda (engl. *United Nations Sustainable Development Solutions Network*). Sadrži članke i ljestvice nacionalne sreće na temelju ocjena vlastitog života ispitanika, koje izvješće također povezuje s različitim životnim čimbenicima.\n",
        "\n",
        "U ovoj laboratorijskoj vježbi istražit ćemo sreću u različitim zemljama i povezana obilježja. Skupovi podataka koje ćemo koristiti dostupni su u *Data/happiness2020.csv* i *Data/countries_info.csv*.\n",
        "\n",
        "U nastavku je dan sažetak stupaca (značajki) u skupu podataka:\n",
        "\n",
        "**happines2020.csv**\n",
        "\n",
        "*   country - naziv države\n",
        "*   happiness_score - ocjena sreće\n",
        "*   social_support - socijalna podrška (ublažavanje učinaka nejednakosti)\n",
        "*   healthy_life_expectancy - očekivanji zdravi životni vijek\n",
        "*   freedom_of_choices - sloboda donošenja životnih izbora\n",
        "*   generosity - velikodušnost (milosrđe, volonteri)\n",
        "*   perceptrion_of_corruption - percepcija korupcije\n",
        "*   world_region - regija države u svijetu\n",
        "\n",
        "**countries_info.csv**\n",
        "\n",
        "*   country_name - naziv države\n",
        "*   area - površina u kvadratnim miljama\n",
        "*   population - broj stanovnika\n",
        "*   literacy - postotak pismenih stanovnika\n",
        "\n",
        "\n"
      ],
      "metadata": {
        "id": "ZuVFMCQzyEvE"
      }
    },
    {
      "cell_type": "code",
      "source": [
        "!head Data/countries_info.csv"
      ],
      "metadata": {
        "id": "lnXscYNs1DA8"
      },
      "execution_count": null,
      "outputs": []
    },
    {
      "cell_type": "code",
      "source": [
        "import pandas as pd\n",
        "\n",
        "DATA_FOLDER = 'Data/'\n",
        "\n",
        "HAPPINESS_DATASET = DATA_FOLDER+\"happiness2020.csv\"\n",
        "COUNTRIES_DATASET = DATA_FOLDER+\"countries_info.csv\""
      ],
      "metadata": {
        "id": "Lg7HzyJS1FPh"
      },
      "execution_count": null,
      "outputs": []
    },
    {
      "cell_type": "markdown",
      "source": [
        "## **Zadatak 1: Učitavanje podataka**\n",
        "\n",
        "Učitajte 2 skupa podataka u Pandas DataFrame-ove (zvane *happiness* i *countries*) te prikažite prve retke. Koristite ispravnu metodu za učitavanje podataka i provjerite jesu li podaci u očekivanom formatu."
      ],
      "metadata": {
        "id": "aPvu4KlI2hsz"
      }
    },
    {
      "cell_type": "code",
      "source": [
        "countries = pd.read_csv(\"Data/countries_info.csv\", sep=',')\n",
        "happiness = pd.read_csv(\"Data/happiness2020.csv\", sep=',')\n",
        "countries\n",
        "happiness"
      ],
      "metadata": {
        "id": "eFy_vajW23Ed"
      },
      "execution_count": null,
      "outputs": []
    },
    {
      "cell_type": "markdown",
      "source": [
        "## **Zadatak 2: Spajanje podataka**\n",
        "\n",
        "Kreirajte DataFrame pod nazivom *country_features* spajanjem prethodno stvorena 2 DataFrame-a. Redak novog DataFrame-a mora opisivati sve značajke koje imamo o nekoj državi.\n"
      ],
      "metadata": {
        "id": "F59c7RzS25Y4"
      }
    },
    {
      "cell_type": "code",
      "source": [
        "happiness.rename(columns={\"country\": \"country_name\"}, inplace=True)\n",
        "happiness['country_name'] = happiness['country_name'].apply(str.lower)\n",
        "country_features = pd.merge(countries, happiness)\n",
        "country_features"
      ],
      "metadata": {
        "id": "BgEu4c3I3PND"
      },
      "execution_count": null,
      "outputs": []
    },
    {
      "cell_type": "markdown",
      "source": [
        "## **Zadatak 3: Gdje su ljudi sretniji?**\n",
        "\n",
        "Ispišite prvih 10 država na temelju njihove ocjene sreće (što je veća ocjena, država je sretnija).\n"
      ],
      "metadata": {
        "id": "5GwITyV03RAQ"
      }
    },
    {
      "cell_type": "code",
      "source": [
        "country_features.sort_values(by=['happiness_score'], ascending=False).head(11)"
      ],
      "metadata": {
        "id": "cklYDWN_3ecJ"
      },
      "execution_count": null,
      "outputs": []
    },
    {
      "cell_type": "markdown",
      "source": [
        "Zanima nas u kojoj su regiji svijeta ljudi sretniji.\n",
        "\n",
        "Izradite i ispišite DataFrame s:\n",
        "1.   Prosječnom ocjenom sreće\n",
        "2.   Brojem zemalja za svaku svjetsku regiju.\n",
        "\n",
        "Poredajte rezultat da biste prikazali rangiranje sreće."
      ],
      "metadata": {
        "id": "LIbSXMUp3gSS"
      }
    },
    {
      "cell_type": "code",
      "source": [
        "countries = pd.read_csv(\"Data/countries_info.csv\", sep=',')\n",
        "happiness = pd.read_csv(\"Data/happiness2020.csv\", sep=',')\n",
        "happiness.rename(columns={\"country\": \"country_name\"}, inplace=True)\n",
        "happiness['country_name'] = happiness['country_name'].apply(str.lower)\n",
        "region_happiness = pd.merge(countries, happiness)\n",
        "region_happiness = region_happiness.groupby(region_happiness.world_region)\n",
        "region_count = region_happiness['country_name'].count()\n",
        "region_happiness_mean = region_happiness['happiness_score'].agg('mean')"
      ],
      "metadata": {
        "id": "-NR_ejX13ukg"
      },
      "execution_count": null,
      "outputs": []
    },
    {
      "cell_type": "code",
      "source": [
        "region_count"
      ],
      "metadata": {
        "id": "hGLdUQkmEPbR"
      },
      "execution_count": null,
      "outputs": []
    },
    {
      "cell_type": "code",
      "source": [
        "region_happiness_mean"
      ],
      "metadata": {
        "id": "F3lCGPOzENcT"
      },
      "execution_count": null,
      "outputs": []
    },
    {
      "cell_type": "markdown",
      "source": [
        "Najbolje rangirana regija ima samo nekoliko država! Koje su to i koji je njihov rezultat sreće?"
      ],
      "metadata": {
        "id": "maeBfNgZ3wR4"
      }
    },
    {
      "cell_type": "code",
      "source": [
        "happiest_region = region_happiness_mean.sort_values(ascending=False).head(1).index[0]\n",
        "country_features.query('world_region == @happiest_region').loc[:, ['country_name', 'happiness_score']]"
      ],
      "metadata": {
        "id": "azkW8Hjx33Cx"
      },
      "execution_count": null,
      "outputs": []
    },
    {
      "cell_type": "markdown",
      "source": [
        "## **Zadatak 4: Koliko je svijet pismen?**\n",
        "\n",
        "Ispišite nazive država s razinom pismenosti od 100%.\n",
        "\n",
        "Za svaku zemlju ispište naziv i regiju svijeta u formatu: {ime regije}-{ime zemlje} ({ocjena sreće}).\n"
      ],
      "metadata": {
        "id": "SGA1xleS345X"
      }
    },
    {
      "cell_type": "code",
      "source": [
        "literacy_rate = \"100,0\"\n",
        "country_features.query('literacy == @literacy_rate').loc[:, ['world_region', 'country_name', 'happiness_score']]"
      ],
      "metadata": {
        "id": "4D8CI5464I2w"
      },
      "execution_count": null,
      "outputs": []
    },
    {
      "cell_type": "markdown",
      "source": [
        "Koliki je globalni prosjek razine pismenosti?"
      ],
      "metadata": {
        "id": "7ayq3sQU4J8v"
      }
    },
    {
      "cell_type": "code",
      "source": [],
      "metadata": {
        "id": "VwwxSS1N4OeB"
      },
      "execution_count": null,
      "outputs": []
    },
    {
      "cell_type": "markdown",
      "source": [
        "Izračunajte udio zemalja s razinom pismenosti ispod 50%. Ispišite vrijednost u postotcima, formatiranu s 2 decimale."
      ],
      "metadata": {
        "id": "gCX2gklg4Q0R"
      }
    },
    {
      "cell_type": "code",
      "source": [
        "literacy_rate = \"50,0\"\n",
        "number_of_countries_with_low_literacy_rates = len(country_features.query(\"literacy<=@literacy_rate\"))\n",
        "number_of_all_countries = len(country_features)\n",
        "\n",
        "print(\"%.2f\" % (number_of_countries_with_low_literacy_rates / number_of_all_countries *100))"
      ],
      "metadata": {
        "id": "IoVTBxwt4Wao"
      },
      "execution_count": null,
      "outputs": []
    },
    {
      "cell_type": "markdown",
      "source": [
        "Ispišite neobrađeni broj i postotak nepismenog svjetskog stanovništva."
      ],
      "metadata": {
        "id": "MdcC6cY-4Y9Y"
      }
    },
    {
      "cell_type": "code",
      "source": [],
      "metadata": {
        "id": "SXxdzxHU4dX5"
      },
      "execution_count": null,
      "outputs": []
    },
    {
      "cell_type": "markdown",
      "source": [
        "## **Zadatak 5: Gustoća naseljenosti**\n",
        "\n",
        "Dodajte DataFrame-u *country_features* novi stupac zvan *population_density* koji se dobije dijeljenjem stupca *population* sa stupcem *area*."
      ],
      "metadata": {
        "id": "4BNfJJSg4fAX"
      }
    },
    {
      "cell_type": "code",
      "source": [
        "country_features['population_density'] = country_features['population']/country_features['area']\n",
        "country_features"
      ],
      "metadata": {
        "id": "NN0m_tvd5CB5"
      },
      "execution_count": null,
      "outputs": []
    },
    {
      "cell_type": "markdown",
      "source": [
        "Koji je rezultat sreće za 3 države s najnižom gustoćom naseljenosti?"
      ],
      "metadata": {
        "id": "EvgJ2iV75DHB"
      }
    },
    {
      "cell_type": "code",
      "source": [
        "country_features.sort_values('population_density').head(3)['happiness_score']"
      ],
      "metadata": {
        "id": "SqnSkMR65HTn"
      },
      "execution_count": null,
      "outputs": []
    },
    {
      "cell_type": "markdown",
      "source": [
        "## **Zadatak 6: Zdravi i sretni?**\n",
        "\n",
        "Iscrtajte na raspršeni dijagram (engl. *scatter plot*) ocjenu sreće (x os) i očekivano trajanje zdravog života (y os)."
      ],
      "metadata": {
        "id": "M6XCsKYH5Iif"
      }
    },
    {
      "cell_type": "code",
      "source": [
        "country_features.plot.scatter(x='happiness_score', y='healthy_life_expectancy')"
      ],
      "metadata": {
        "id": "fXO6ef-MOIZU"
      },
      "execution_count": null,
      "outputs": []
    }
  ]
}